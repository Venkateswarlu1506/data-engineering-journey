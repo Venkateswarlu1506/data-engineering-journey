{
 "cells": [
  {
   "cell_type": "markdown",
   "id": "fafd4431-f22f-4f47-8b36-42075e16c9e7",
   "metadata": {},
   "source": [
    "# How to do Multiline Comment in Python?\n",
    "Using triple quotes: The most widely accepted way to create a multiline comment is by using triple quotes (\"\"\" or ''').\n",
    "\n",
    "Using multiple single-line comments: You can also use multiple single-line comments by placing a hash symbol (#) at the start of each line."
   ]
  },
  {
   "cell_type": "markdown",
   "id": "0134e921-de4e-48f9-9325-12696d1fb537",
   "metadata": {
    "jp-MarkdownHeadingCollapsed": true
   },
   "source": [
    "# How to print the variables?\n",
    "print() function\n",
    "# Single Variable:\n",
    "age = 30\n",
    "print(age)\n",
    "# Multiple Variables & Text (Formatted String): \n",
    "The best way to print variables with explanatory text is using an f-string. Precede the string with an f and enclose the variable name in curly braces {}.\n",
    "name = \"Alice\"\n",
    "age = 25\n",
    "print(f\"My name is {name} and I am {age} years old.\")\n"
   ]
  },
  {
   "cell_type": "markdown",
   "id": "3bdb3dd2-9196-41b8-921b-3909264110f7",
   "metadata": {},
   "source": [
    "# How to take user input as input to variables?\n",
    "input() Function\n",
    "# Basic Input: The input() function can take an optional argument, which is the message (or prompt) to display to the user.\n",
    "username = input(\"Enter your username: \")\n",
    "print(f\"Hello, {username}!\")\n",
    "# Handling Different Data Types:\n",
    "Since input() always returns a string, you must explicitly convert the input to the desired data type (like an integer or a float) if you want to perform calculations with it.\n",
    "* Taking integer input\n",
    "user_age = input(\"Enter your age: \")\n",
    "age_as_int = int(user_age)\n",
    "print(f\"In 5 years, you will be {age_as_int + 5} years old.\")\n",
    "\n",
    "* A more compact way to do the same\n",
    "user_age = int(input(\"Enter your age: \"))\n",
    "print(f\"In 5 years, you will be {user_age + 5} years old.\")\n"
   ]
  },
  {
   "cell_type": "code",
   "execution_count": 3,
   "id": "be37368b-2943-4dc5-94e5-0f5dc1465270",
   "metadata": {},
   "outputs": [
    {
     "name": "stdout",
     "output_type": "stream",
     "text": [
      "my name is Venkatesh and age is 30\n"
     ]
    }
   ],
   "source": [
    "# How to print the variables?\n",
    "name='Venkatesh'\n",
    "age=30\n",
    "print(f\"my name is {name} and age is {age}\")"
   ]
  },
  {
   "cell_type": "code",
   "execution_count": null,
   "id": "bd6248e9-3744-469b-b49c-34c4f13bb47b",
   "metadata": {},
   "outputs": [],
   "source": []
  }
 ],
 "metadata": {
  "kernelspec": {
   "display_name": "Python 3 (ipykernel)",
   "language": "python",
   "name": "python3"
  },
  "language_info": {
   "codemirror_mode": {
    "name": "ipython",
    "version": 3
   },
   "file_extension": ".py",
   "mimetype": "text/x-python",
   "name": "python",
   "nbconvert_exporter": "python",
   "pygments_lexer": "ipython3",
   "version": "3.13.1"
  }
 },
 "nbformat": 4,
 "nbformat_minor": 5
}
