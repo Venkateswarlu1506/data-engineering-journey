{
 "cells": [
  {
   "cell_type": "markdown",
   "id": "fafd4431-f22f-4f47-8b36-42075e16c9e7",
   "metadata": {},
   "source": [
    "# How to do Multiline Comment in Python?\n",
    "Using triple quotes: The most widely accepted way to create a multiline comment is by using triple quotes (\"\"\" or ''').\n",
    "\n",
    "Using multiple single-line comments: You can also use multiple single-line comments by placing a hash symbol (#) at the start of each line."
   ]
  },
  {
   "cell_type": "markdown",
   "id": "0134e921-de4e-48f9-9325-12696d1fb537",
   "metadata": {
    "jp-MarkdownHeadingCollapsed": true
   },
   "source": [
    "# How to print the variables?\n",
    "print() function\n",
    "# Single Variable:\n",
    "age = 30\n",
    "print(age)\n",
    "# Multiple Variables & Text (Formatted String): \n",
    "The best way to print variables with explanatory text is using an f-string. Precede the string with an f and enclose the variable name in curly braces {}.\n",
    "name = \"Alice\"\n",
    "age = 25\n",
    "print(f\"My name is {name} and I am {age} years old.\")\n"
   ]
  },
  {
   "cell_type": "markdown",
   "id": "3bdb3dd2-9196-41b8-921b-3909264110f7",
   "metadata": {},
   "source": [
    "# How to take user input as input to variables?\n",
    "input() Function\n",
    "# Basic Input: \n",
    "The input() function can take an optional argument, which is the message (or prompt) to display to the user.\n",
    "username = input(\"Enter your username: \")\n",
    "print(f\"Hello, {username}!\")\n",
    "# Handling Different Data Types:\n",
    "Since input() always returns a string, you must explicitly convert the input to the desired data type (like an integer or a float) if you want to perform calculations with it.\n",
    "* Taking integer input\n",
    "user_age = input(\"Enter your age: \")\n",
    "age_as_int = int(user_age)\n",
    "print(f\"In 5 years, you will be {age_as_int + 5} years old.\")\n",
    "\n",
    "* A more compact way to do the same\n",
    "user_age = int(input(\"Enter your age: \"))\n",
    "print(f\"In 5 years, you will be {user_age + 5} years old.\")\n"
   ]
  },
  {
   "cell_type": "code",
   "execution_count": 3,
   "id": "be37368b-2943-4dc5-94e5-0f5dc1465270",
   "metadata": {},
   "outputs": [
    {
     "name": "stdout",
     "output_type": "stream",
     "text": [
      "my name is Venkatesh and age is 30\n"
     ]
    }
   ],
   "source": [
    "# How to print the variables?\n",
    "name='Venkatesh'\n",
    "age=30\n",
    "print(f\"my name is {name} and age is {age}\")"
   ]
  },
  {
   "cell_type": "code",
   "execution_count": 1,
   "id": "96eae33f-085d-46c5-b040-03abbf8351dc",
   "metadata": {},
   "outputs": [
    {
     "name": "stdin",
     "output_type": "stream",
     "text": [
      "User Name: Venkatesh\n",
      "Enter age: 30\n"
     ]
    },
    {
     "name": "stdout",
     "output_type": "stream",
     "text": [
      "User nameVenkatesh  age is 30\n"
     ]
    }
   ],
   "source": [
    "# How to take user input as input to variables?\n",
    "user_name=str(input(\"User Name:\"))\n",
    "user_age=int(input(\"Enter age:\"))\n",
    "print(f\"User name{user_name}  age is {user_age}\")"
   ]
  },
  {
   "cell_type": "markdown",
   "id": "a7c77b92-ef6e-419a-b1c1-e76fe284d859",
   "metadata": {},
   "source": [
    "# 1. Variables\n",
    "* A variable is a name that stores a data in memory.\n",
    "* In Python, you don’t need to declare types explicitly; Python is dynamically typed.\n",
    "✅ Key points:\n",
    "* Variable names must start with a letter or underscore.\n",
    "* No spaces or special characters (except _).\n",
    "* Case-sensitive: Age ≠ age."
   ]
  },
  {
   "cell_type": "code",
   "execution_count": 3,
   "id": "c0d3ef1b-a5f6-4c16-b479-363e04d5d028",
   "metadata": {},
   "outputs": [
    {
     "name": "stdout",
     "output_type": "stream",
     "text": [
      "User name is Venkatesh\n",
      " age is 30\n",
      " hegight is 5.5\n",
      " Is married? True\n"
     ]
    }
   ],
   "source": [
    "# Examples of variables\n",
    "name = \"Venkatesh\"   # String\n",
    "age = 30             # Integer\n",
    "height = 5.5         # Float\n",
    "is_married = True    # Boolean\n",
    "\n",
    "print(f\"User name is {name}\\n age is {age}\\n hegight is {height}\\n Is married? {is_married}\")"
   ]
  },
  {
   "cell_type": "markdown",
   "id": "ecda7b18-2544-4937-9d81-e8e0804bba93",
   "metadata": {},
   "source": [
    "# 2. Data Types\n",
    "\n",
    "\n",
    "| Data Type | Mutable? | Example           | Use Case in Data Engineering             |\n",
    "| --------- | -------- | ----------------- | ---------------------------------------- |\n",
    "| int       | No       | 10                | IDs, counts, rows                        |\n",
    "| float     | No       | 3.14              | Prices, percentages, weights             |\n",
    "| str       | No       | \"Venkatesh\"       | Names, text, JSON keys                   |\n",
    "| bool      | No       | True              | Flags, conditional checks                |\n",
    "| list      | Yes      | \\[1,2,3]          | Batch data, temporary storage            |\n",
    "| tuple     | No       | (1,2,3)           | Fixed configurations, function returns   |\n",
    "| dict      | Yes      | {\"a\":1}           | JSON data, mappings, ETL transformations |\n",
    "| set       | Yes      | {1,2,3}           | Removing duplicates, unique values       |\n",
    "| frozenset | No       | frozenset(\\[1,2]) | Constant unique collections              |\n",
    "| NoneType  | No       | None              | Missing data, placeholders               |\n",
    "\n",
    "# Numeric Types:\n",
    "* int (Integer): Whole numbers, positive or negative, no decimal part.\n",
    "* Use cases in data engineering:\n",
    "  Counting rows, number of items sold, IDs, primary keys\n",
    "  \n",
    "* float (Floating Point): Numbers with decimal points.\n",
    "* Use cases:\n",
    "  Monetary calculations, percentages, averages, sensor readings, weights.\n",
    "  \n",
    "* complex: Numbers with real and imaginary parts.\n",
    "* Use cases:\n",
    "  Rare in standard data engineering; mostly scientific computing.\n",
    "\n",
    "# Text Types:\n",
    "* str (String): Sequence of characters enclosed in quotes.\n",
    "* Use cases:\n",
    "  Customer names, emails, product names, JSON keys, text data from APIs or logs.\n",
    "* Operations:\n",
    "  Concatenation: \"Hello \" + \"World\"\n",
    "  Length: len(name)\n",
    "  Upper/Lower: name.upper(), name.lower()\n",
    "\n",
    "# Boolean Types:\n",
    "* bool: Represents True or False values.\n",
    "* Use cases:\n",
    "  Flags for active/inactive users, validation checks, conditional logic in ETL pipelines.\n",
    "\n",
    "# Sequence Types:\n",
    "* list:Ordered, mutable collection.\n",
    "* Example:\n",
    "           fruits = [\"Mango\", \"Apple\", \"Banana\"]\n",
    "           fruits[0] = \"Orange\"  # lists can be changed\n",
    "* Use cases:\n",
    "  Temporary storage of rows or columns, batch processing, storing multiple values before saving to database.\n",
    "\n",
    "* tuple: Ordered, immutable collection.\n",
    "* Example:coordinates = (10.5, 20.3)\n",
    "* Use cases:\n",
    "  Fixed configuration values, database keys, returning multiple values from a function.\n",
    "\n",
    "* range: Represents a sequence of numbers.\n",
    "* Example:\n",
    "      for i in range(5):\n",
    "        print(i)\n",
    "* Use cases:\n",
    "  Looping over indices, generating incremental IDs.\n",
    "  \n",
    "# Mapping Types:\n",
    "* dict (Dictionary):Key-value pairs, unordered (Python 3.7+ maintains insertion order).\n",
    "* Example:\n",
    "  person = {\"name\": \"Venkatesh\", \"age\": 30, \"city\": \"Hyderabad\"}\n",
    "  print(person[\"name\"])\n",
    "* Use cases:\n",
    "  Storing JSON-like data, configuration parameters, mapping IDs to values in ETL pipelines.\n",
    "  \n",
    "# Set Types:\n",
    "* set:Unordered collection of unique elements.\n",
    "\n",
    "* Example:\n",
    "     unique_ids = {101, 102, 103}\n",
    "* Use cases:\n",
    "  Removing duplicates, membership testing, grouping unique values in data processing.\n",
    "\n",
    "* frozenset:Immutable set.\n",
    "* Example:\n",
    "  fs = frozenset([1, 2, 3])\n",
    "* Use cases:Use as dictionary keys, store constant unique values.\n",
    "\n",
    "# None Type:\n",
    "* None:Represents the absence of a value.\n",
    "* Example:\n",
    "  middle_name = None\n",
    "* Use cases:\n",
    "  Missing data in pipelines, default function arguments, placeholders in ETL processes."
   ]
  }
 ],
 "metadata": {
  "kernelspec": {
   "display_name": "Python 3 (ipykernel)",
   "language": "python",
   "name": "python3"
  },
  "language_info": {
   "codemirror_mode": {
    "name": "ipython",
    "version": 3
   },
   "file_extension": ".py",
   "mimetype": "text/x-python",
   "name": "python",
   "nbconvert_exporter": "python",
   "pygments_lexer": "ipython3",
   "version": "3.13.1"
  }
 },
 "nbformat": 4,
 "nbformat_minor": 5
}
