{
 "cells": [
  {
   "cell_type": "markdown",
   "id": "e71d0587-7fcc-43e6-aa36-4ab3c55e53a9",
   "metadata": {},
   "source": [
    "## List:\n",
    "    is unordered collection\n",
    "    allows duplicates\n",
    "    mutable i.e is we can change/modify/update the existing values"
   ]
  },
  {
   "cell_type": "code",
   "execution_count": 2,
   "id": "c7732d06-55d7-485b-b5a2-3da04d3beb82",
   "metadata": {},
   "outputs": [
    {
     "name": "stdout",
     "output_type": "stream",
     "text": [
      "[100, 8, 8, 100, 30, 20, 500, 90]\n"
     ]
    }
   ],
   "source": [
    "lst=[100,8,8,100,30,20,10,90] ## Unorder,duplicate\n",
    "lst[6]=500 ## updated the exising value\n",
    "print(lst)"
   ]
  },
  {
   "cell_type": "code",
   "execution_count": null,
   "id": "8c474fcb-d8f2-4233-8ea4-9cdb94a80e43",
   "metadata": {},
   "outputs": [],
   "source": []
  }
 ],
 "metadata": {
  "kernelspec": {
   "display_name": "Python 3 (ipykernel)",
   "language": "python",
   "name": "python3"
  },
  "language_info": {
   "codemirror_mode": {
    "name": "ipython",
    "version": 3
   },
   "file_extension": ".py",
   "mimetype": "text/x-python",
   "name": "python",
   "nbconvert_exporter": "python",
   "pygments_lexer": "ipython3",
   "version": "3.13.1"
  }
 },
 "nbformat": 4,
 "nbformat_minor": 5
}
