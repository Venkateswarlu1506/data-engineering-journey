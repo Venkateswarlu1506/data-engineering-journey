{
 "cells": [
  {
   "cell_type": "markdown",
   "id": "53392ff8-238d-449b-a06d-ef04e8274c8e",
   "metadata": {},
   "source": [
    "## add: \n",
    "     append()-- to add an element/object/value at the end of list\n",
    "     insert(index_position,object_value)--to add an element/object/value at specific index of list\n",
    "     extend(list_we_want_to_extend)\n",
    "     concatenation of list lst1+lst2\n",
    "add elements to the exising list\n",
    "## remove:\n",
    "      pop()--(based on position) remove the element based on index, by default it removes the last element[-1] from list\n",
    "      remove()---(based on value)remove perticular element, By default it removes the first element from the list\n",
    "      clear()-- remove the elements from the list and structure is remains same means empty list []\n",
    "      del()-- delete the whole list from memory"
   ]
  },
  {
   "cell_type": "code",
   "execution_count": 1,
   "id": "74d1cb07-d15a-4841-bf24-99c12cdfa46b",
   "metadata": {},
   "outputs": [
    {
     "name": "stdout",
     "output_type": "stream",
     "text": [
      "[10, 20, 30, 20]\n"
     ]
    }
   ],
   "source": [
    "lst=[10,20,30,20]\n",
    "print(lst)"
   ]
  },
  {
   "cell_type": "code",
   "execution_count": 3,
   "id": "15ab9e92-ee82-42ae-8a5d-bf2af6d72a0d",
   "metadata": {},
   "outputs": [
    {
     "name": "stdout",
     "output_type": "stream",
     "text": [
      "Help on built-in function append:\n",
      "\n",
      "append(object, /) method of builtins.list instance\n",
      "    Append object to the end of the list.\n",
      "\n",
      "[10, 20, 30, 20, 10]\n"
     ]
    }
   ],
   "source": [
    "##append()\n",
    "help(lst.append)\n",
    "lst.append(10)\n",
    "print(lst)"
   ]
  },
  {
   "cell_type": "code",
   "execution_count": 6,
   "id": "777f5f95-463f-4903-8bc6-b3ae1efc4137",
   "metadata": {},
   "outputs": [
    {
     "name": "stdout",
     "output_type": "stream",
     "text": [
      "Help on built-in function insert:\n",
      "\n",
      "insert(index, object, /) method of builtins.list instance\n",
      "    Insert object before index.\n",
      "\n",
      "[10, 5, 5, 20, 30, 20, 10]\n"
     ]
    }
   ],
   "source": [
    "##insert(poation,value)\n",
    "help(lst.insert)\n",
    "lst.insert(1,5)\n",
    "print(lst)"
   ]
  },
  {
   "cell_type": "code",
   "execution_count": 10,
   "id": "c8abc9c5-7dd0-4457-9deb-a00ddacaa368",
   "metadata": {},
   "outputs": [
    {
     "name": "stdout",
     "output_type": "stream",
     "text": [
      "Help on built-in function extend:\n",
      "\n",
      "extend(iterable, /) method of builtins.list instance\n",
      "    Extend list by appending elements from the iterable.\n",
      "\n",
      "[10, 20, 30, 90, 80, 70]\n",
      "[90, 80, 70]\n"
     ]
    }
   ],
   "source": [
    "## extend()\n",
    "lst1=[10,20,30]\n",
    "lst2=[90,80,70]\n",
    "help(lst1.extend)\n",
    "lst1.extend(lst2)\n",
    "print(lst1)\n",
    "print(lst2)"
   ]
  },
  {
   "cell_type": "code",
   "execution_count": 13,
   "id": "53a9b654-9a17-4636-a52e-f77471b0cc99",
   "metadata": {},
   "outputs": [
    {
     "name": "stdout",
     "output_type": "stream",
     "text": [
      "[10, 20, 30, 20]\n",
      "[10, 20, 20]\n"
     ]
    }
   ],
   "source": [
    "## pop()\n",
    "lst=[10,20,30,20,10]\n",
    "lst.pop() ## remove last element by default\n",
    "print(lst)\n",
    "lst.pop(2) ## removes 2ndpostion that is third element\n",
    "print(lst)"
   ]
  },
  {
   "cell_type": "code",
   "execution_count": 15,
   "id": "87d7c393-30c4-4bb9-adc1-752b4180d1db",
   "metadata": {},
   "outputs": [
    {
     "name": "stdout",
     "output_type": "stream",
     "text": [
      "[90, 70, 10, 20]\n"
     ]
    }
   ],
   "source": [
    "## remove\n",
    "lst3=[90,70,10,10,20]\n",
    "lst3.remove(10) # removed first most occerance\n",
    "print(lst3)"
   ]
  },
  {
   "cell_type": "code",
   "execution_count": 16,
   "id": "7719926c-0898-4bdf-8094-bac28b6772c2",
   "metadata": {},
   "outputs": [
    {
     "name": "stdout",
     "output_type": "stream",
     "text": [
      "[]\n"
     ]
    }
   ],
   "source": [
    "lst4=[90,70,10,10,20]\n",
    "lst4.clear() ## print empty list\n",
    "print(lst4)"
   ]
  },
  {
   "cell_type": "code",
   "execution_count": 18,
   "id": "5ac80b03-b30a-4b49-be91-db35ad8c9d50",
   "metadata": {},
   "outputs": [
    {
     "ename": "NameError",
     "evalue": "name 'lst5' is not defined",
     "output_type": "error",
     "traceback": [
      "\u001b[1;31m---------------------------------------------------------------------------\u001b[0m",
      "\u001b[1;31mNameError\u001b[0m                                 Traceback (most recent call last)",
      "Cell \u001b[1;32mIn[18], line 3\u001b[0m\n\u001b[0;32m      1\u001b[0m lst5\u001b[38;5;241m=\u001b[39m[\u001b[38;5;241m90\u001b[39m,\u001b[38;5;241m70\u001b[39m,\u001b[38;5;241m10\u001b[39m,\u001b[38;5;241m10\u001b[39m,\u001b[38;5;241m20\u001b[39m]\n\u001b[0;32m      2\u001b[0m \u001b[38;5;28;01mdel\u001b[39;00m lst5\n\u001b[1;32m----> 3\u001b[0m \u001b[38;5;28mprint\u001b[39m(\u001b[43mlst5\u001b[49m)\n",
      "\u001b[1;31mNameError\u001b[0m: name 'lst5' is not defined"
     ]
    }
   ],
   "source": [
    "lst5=[90,70,10,10,20]\n",
    "del lst5 ## deleted the whole list from memory\n",
    "print(lst5)"
   ]
  },
  {
   "cell_type": "code",
   "execution_count": null,
   "id": "750a7e4d-b971-4be7-82d5-9de4acbd67a1",
   "metadata": {},
   "outputs": [],
   "source": []
  }
 ],
 "metadata": {
  "kernelspec": {
   "display_name": "Python 3 (ipykernel)",
   "language": "python",
   "name": "python3"
  },
  "language_info": {
   "codemirror_mode": {
    "name": "ipython",
    "version": 3
   },
   "file_extension": ".py",
   "mimetype": "text/x-python",
   "name": "python",
   "nbconvert_exporter": "python",
   "pygments_lexer": "ipython3",
   "version": "3.13.1"
  }
 },
 "nbformat": 4,
 "nbformat_minor": 5
}
