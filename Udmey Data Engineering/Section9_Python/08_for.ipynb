{
 "cells": [
  {
   "cell_type": "markdown",
   "id": "b0f99e46-57c6-4bb3-9e39-a9d8f87db5c7",
   "metadata": {},
   "source": [
    "for loop:\n",
    "\n",
    "for variable_name in collection:\n",
    " logic\n",
    " Incrementing loop and decrementing loop\n",
    "It is mechanism where it runs for certain intervel of time unless untill it satisfies the condition\n",
    "Iterative action same work need to perform again and again we use for loop\n",
    "\n",
    "range(n)-->give values from 0,1,2.....n\n",
    "range(start_value,stop_value,step)\n",
    "Think it as collection where it stores the values from 0 t0 n"
   ]
  },
  {
   "cell_type": "code",
   "execution_count": 1,
   "id": "b04c7009-520e-4a24-a80f-73fcc009428b",
   "metadata": {},
   "outputs": [
    {
     "data": {
      "text/plain": [
       "range(0, 10)"
      ]
     },
     "execution_count": 1,
     "metadata": {},
     "output_type": "execute_result"
    }
   ],
   "source": [
    "range(10)"
   ]
  },
  {
   "cell_type": "code",
   "execution_count": 2,
   "id": "87995a5c-a61f-4821-8c74-f26629252fa2",
   "metadata": {},
   "outputs": [
    {
     "data": {
      "text/plain": [
       "range(1, 10)"
      ]
     },
     "execution_count": 2,
     "metadata": {},
     "output_type": "execute_result"
    }
   ],
   "source": [
    "range(1,10)"
   ]
  },
  {
   "cell_type": "code",
   "execution_count": 3,
   "id": "81fe7c35-5637-4384-b906-ae2f6c3b3cf7",
   "metadata": {},
   "outputs": [
    {
     "data": {
      "text/plain": [
       "range(1, 10, 2)"
      ]
     },
     "execution_count": 3,
     "metadata": {},
     "output_type": "execute_result"
    }
   ],
   "source": [
    "range(1,10,2)"
   ]
  },
  {
   "cell_type": "code",
   "execution_count": 4,
   "id": "de61d243-64fa-41df-9810-c6e485a08b6f",
   "metadata": {},
   "outputs": [
    {
     "name": "stdout",
     "output_type": "stream",
     "text": [
      "1\n",
      "2\n",
      "3\n",
      "4\n",
      "5\n",
      "6\n",
      "7\n",
      "8\n",
      "9\n"
     ]
    }
   ],
   "source": [
    "## print first 10 numbers\n",
    "for i in range(1,10):\n",
    " print(i)"
   ]
  },
  {
   "cell_type": "code",
   "execution_count": 6,
   "id": "330aee48-ac2c-4f17-b6cd-23006ad1698a",
   "metadata": {},
   "outputs": [
    {
     "name": "stdout",
     "output_type": "stream",
     "text": [
      "1\n",
      "4\n",
      "7\n"
     ]
    }
   ],
   "source": [
    "for i in range(1,10,3):\n",
    " print(i)"
   ]
  },
  {
   "cell_type": "code",
   "execution_count": 7,
   "id": "6847b23a-bdb4-4904-83a5-367dc4eaea0c",
   "metadata": {},
   "outputs": [
    {
     "name": "stdout",
     "output_type": "stream",
     "text": [
      "1\n",
      "4\n",
      "7\n",
      "this print is not part of loop\n"
     ]
    }
   ],
   "source": [
    "for i in range(1,10,3):\n",
    " print(i)\n",
    "print(\"this print is not part of loop\") ## not inside the for loop"
   ]
  },
  {
   "cell_type": "code",
   "execution_count": 10,
   "id": "5c540e89-88ce-43fb-95c8-30cfd8f38f46",
   "metadata": {},
   "outputs": [
    {
     "name": "stdout",
     "output_type": "stream",
     "text": [
      "10\n",
      "9\n",
      "8\n",
      "7\n",
      "6\n",
      "5\n",
      "4\n",
      "3\n",
      "2\n"
     ]
    }
   ],
   "source": [
    "for i in range(10,1,-1):\n",
    " print(i) ## Decrementing loop with step -1"
   ]
  },
  {
   "cell_type": "code",
   "execution_count": null,
   "id": "e3b5acb6-963c-4b23-b310-b0a48196209a",
   "metadata": {},
   "outputs": [],
   "source": []
  }
 ],
 "metadata": {
  "kernelspec": {
   "display_name": "Python 3 (ipykernel)",
   "language": "python",
   "name": "python3"
  },
  "language_info": {
   "codemirror_mode": {
    "name": "ipython",
    "version": 3
   },
   "file_extension": ".py",
   "mimetype": "text/x-python",
   "name": "python",
   "nbconvert_exporter": "python",
   "pygments_lexer": "ipython3",
   "version": "3.13.1"
  }
 },
 "nbformat": 4,
 "nbformat_minor": 5
}
