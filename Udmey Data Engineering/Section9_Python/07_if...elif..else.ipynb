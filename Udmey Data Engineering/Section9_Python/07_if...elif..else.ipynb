{
 "cells": [
  {
   "cell_type": "markdown",
   "id": "07aeb5fe-2e5e-4d20-bf3d-91311f6a6e44",
   "metadata": {},
   "source": [
    "if...elif..else\n",
    "\n",
    "elif is a branch \n",
    "always write branches ASC or DESC order"
   ]
  },
  {
   "cell_type": "code",
   "execution_count": 3,
   "id": "afa9124c-96ef-4717-ba1a-d0fa0e02221d",
   "metadata": {},
   "outputs": [
    {
     "name": "stdin",
     "output_type": "stream",
     "text": [
      "Enter a numeric value: 59\n"
     ]
    },
    {
     "name": "stdout",
     "output_type": "stream",
     "text": [
      "Avg\n"
     ]
    }
   ],
   "source": [
    "x=int(input(\"Enter a numeric value:\"))\n",
    "if x<=50:\n",
    " print(\"Low\")\n",
    "elif x<=75 and x>=51:\n",
    " print(\"Avg\")\n",
    "else:\n",
    " print(\"High\")"
   ]
  },
  {
   "cell_type": "code",
   "execution_count": null,
   "id": "1b78c938-b892-4822-b7f8-747cb3fc4731",
   "metadata": {},
   "outputs": [],
   "source": []
  }
 ],
 "metadata": {
  "kernelspec": {
   "display_name": "Python 3 (ipykernel)",
   "language": "python",
   "name": "python3"
  },
  "language_info": {
   "codemirror_mode": {
    "name": "ipython",
    "version": 3
   },
   "file_extension": ".py",
   "mimetype": "text/x-python",
   "name": "python",
   "nbconvert_exporter": "python",
   "pygments_lexer": "ipython3",
   "version": "3.13.1"
  }
 },
 "nbformat": 4,
 "nbformat_minor": 5
}
