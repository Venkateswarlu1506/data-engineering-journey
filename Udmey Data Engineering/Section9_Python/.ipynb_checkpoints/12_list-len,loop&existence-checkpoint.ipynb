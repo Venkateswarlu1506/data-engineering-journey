{
 "cells": [
  {
   "cell_type": "markdown",
   "id": "8c0d61da-a8c9-4416-8274-d231ff552d3a",
   "metadata": {},
   "source": [
    "Len: to find length of loop\n",
    "existance: existance of perticular element\n",
    "loop:"
   ]
  },
  {
   "cell_type": "code",
   "execution_count": 7,
   "id": "b041447c-7cc6-4d83-b645-dfe4cb57a451",
   "metadata": {},
   "outputs": [
    {
     "name": "stdout",
     "output_type": "stream",
     "text": [
      "List length is 6\n",
      "5 is present in lst? False\n",
      "5 is present in lst? True\n"
     ]
    }
   ],
   "source": [
    "lst=[10,20,30,40,50,100]\n",
    "len(lst) ## to find length of list\n",
    "print(f\"List length is {len(lst)}\")\n",
    "# to find the element is exist or not\n",
    "5 in lst\n",
    "10 in lst\n",
    "print(f\"5 is present in lst? {5 in lst}\")\n",
    "print(f\"5 is present in lst? {10 in lst}\")\n"
   ]
  },
  {
   "cell_type": "code",
   "execution_count": 8,
   "id": "e449d724-4512-4ffb-9a75-793118e3a5de",
   "metadata": {},
   "outputs": [
    {
     "name": "stdout",
     "output_type": "stream",
     "text": [
      "10\n",
      "20\n",
      "30\n",
      "40\n",
      "50\n",
      "100\n"
     ]
    }
   ],
   "source": [
    "#loop\n",
    "for i in lst:\n",
    "    print(i)"
   ]
  },
  {
   "cell_type": "code",
   "execution_count": null,
   "id": "f42d7a95-0bc4-4285-91b0-9803930b1659",
   "metadata": {},
   "outputs": [],
   "source": []
  }
 ],
 "metadata": {
  "kernelspec": {
   "display_name": "Python 3 (ipykernel)",
   "language": "python",
   "name": "python3"
  },
  "language_info": {
   "codemirror_mode": {
    "name": "ipython",
    "version": 3
   },
   "file_extension": ".py",
   "mimetype": "text/x-python",
   "name": "python",
   "nbconvert_exporter": "python",
   "pygments_lexer": "ipython3",
   "version": "3.13.1"
  }
 },
 "nbformat": 4,
 "nbformat_minor": 5
}
