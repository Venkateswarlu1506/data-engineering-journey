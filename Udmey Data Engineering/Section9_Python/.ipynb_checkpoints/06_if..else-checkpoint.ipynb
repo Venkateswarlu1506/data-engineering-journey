{
 "cells": [
  {
   "cell_type": "markdown",
   "id": "d808e626-8e8d-4219-81d3-64e8ae7fa7c7",
   "metadata": {},
   "source": [
    "if....else\n",
    "when the comparasion between the variable is happen it will retrurn true or false.\n",
    "if logic block execute the when the if comparision is true\n",
    "other wise else block execute\n",
    "comparsion operators returns true or flase ==,>,<,<=,>=,!=\n",
    "Note: We always compare the same data type one int and sring cannot be compared"
   ]
  },
  {
   "cell_type": "code",
   "execution_count": 13,
   "id": "6f23817c-0b3e-4acc-b220-2070c8517f9f",
   "metadata": {},
   "outputs": [
    {
     "name": "stdout",
     "output_type": "stream",
     "text": [
      "True\n",
      "False\n",
      "False\n",
      "False\n",
      "True\n"
     ]
    }
   ],
   "source": [
    "a=10\n",
    "b=20\n",
    "c=\"venky\"\n",
    "d=\"swathi\"\n",
    "e=\"venky\"\n",
    "a==b ### numeric compare\n",
    "b==c ### gives nothing returned because different data compare\n",
    "c==d\n",
    "if a!=b:\n",
    " print(\"True\")\n",
    "else:\n",
    " print(\"False\")\n",
    "if a==b:\n",
    " print(\"True\")\n",
    "else:\n",
    " print(\"False\")\n",
    "if b==c:\n",
    " print(\"True\")\n",
    "else:\n",
    " print(\"False\")\n",
    "if c==d:\n",
    " print(\"True\")\n",
    "else:\n",
    " print(\"False\")\n",
    "if e==c:\n",
    " print(\"True\")\n",
    "else:\n",
    " print(\"False\")"
   ]
  },
  {
   "cell_type": "code",
   "execution_count": null,
   "id": "c1d8674a-610b-4539-8ad9-143921a2db6c",
   "metadata": {},
   "outputs": [],
   "source": []
  },
  {
   "cell_type": "code",
   "execution_count": null,
   "id": "c5337be0-4dd2-4e60-bc38-9f55ab7ebbaa",
   "metadata": {},
   "outputs": [],
   "source": []
  }
 ],
 "metadata": {
  "kernelspec": {
   "display_name": "Python 3 (ipykernel)",
   "language": "python",
   "name": "python3"
  },
  "language_info": {
   "codemirror_mode": {
    "name": "ipython",
    "version": 3
   },
   "file_extension": ".py",
   "mimetype": "text/x-python",
   "name": "python",
   "nbconvert_exporter": "python",
   "pygments_lexer": "ipython3",
   "version": "3.13.1"
  }
 },
 "nbformat": 4,
 "nbformat_minor": 5
}
