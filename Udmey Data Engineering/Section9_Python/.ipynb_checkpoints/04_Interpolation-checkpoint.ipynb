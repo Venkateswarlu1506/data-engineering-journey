{
 "cells": [
  {
   "cell_type": "markdown",
   "id": "ab6ad7db-f185-493a-b8d4-1896ae6f6371",
   "metadata": {},
   "source": [
    "Interpolation:\n",
    "Interpolation in Python means estimating unknown values between two known values. It’s widely used in data science, signal processing, and numerical analysis. There are multiple ways to do interpolation in Python depending on your need.\n",
    "First we will have place holder then we pass variable\n",
    "✅ Summary:\n",
    "String interpolation → f-strings, .format(), %.---This is about inserting variables into strings.\n",
    "Numerical interpolation → numpy.interp(), scipy.interpolate.--For estimating values between known data points.\n",
    "Image interpolation → OpenCV methods like INTER_LINEAR, INTER_CUBIC.--When resizing images, interpolation is used (e.g., OpenCV):"
   ]
  },
  {
   "cell_type": "code",
   "execution_count": 12,
   "id": "ca26b119-c2b6-4321-a22a-b62ffebb84e5",
   "metadata": {},
   "outputs": [
    {
     "name": "stdout",
     "output_type": "stream",
     "text": [
      "The value of a:20\n",
      "The value of b:venky\n",
      "The value of a is 20 and value of b is venky\n",
      "The value of a is 20 and value of b is venky\n",
      "The value of a is 20 and value of b is venky\n",
      "The value of a is 20 and value of b is venky\n",
      "The value of a is 20 and value of b is venky\n"
     ]
    }
   ],
   "source": [
    "# String interpolation\n",
    "### String interpolation with %\n",
    "### String interpolation with .format()\n",
    "### String interpolation with f-strings\n",
    "a=20\n",
    "b=\"venky\"\n",
    "print(\"The value of a:\"+str(a)) ##converting numeric to string\n",
    "print(\"The value of b:\"+b)\n",
    "## Need to concate both the value of a is 20 and b is \"venky\"-- this basic and tedious\n",
    "print(\"The value of a is \"+str(a)+\" and value of b is \"+b)\n",
    "\n",
    "##We use place holder concept to make make it easy\n",
    "### String interpolation with %\n",
    "print(\"The value of a is %d and value of b is %s\" %(a,b)) ### String interpolation with %\n",
    "### String interpolation with .format()\n",
    "print(\"The value of a is {} and value of b is {}\" .format(a,b))### Here it is not clear as no place holder is over rided.so we will assign named place holder so that placing is not a problem\n",
    "print(\"The value of a is {a1} and value of b is {b1}\" .format(a1=a,b1=b))##We used named placeholder to avoid conflict\n",
    "### String interpolation with f-strings\n",
    "print(f\"The value of a is {a} and value of b is {b}\" )"
   ]
  },
  {
   "cell_type": "code",
   "execution_count": 14,
   "id": "c01e33cd-30dc-4a6c-adef-5865d2192749",
   "metadata": {},
   "outputs": [
    {
     "name": "stdout",
     "output_type": "stream",
     "text": [
      "15.0\n",
      "5.0\n"
     ]
    }
   ],
   "source": [
    "##Numerical interpolation → numpy.interp(), scipy.interpolate.\n",
    "\"\"\"x = np.array([0, 1, 2, 3])\n",
    "y = np.array([0, 10, 20, 30])\n",
    "x → independent variable (like the input).\n",
    "\n",
    "y → dependent variable (like the output).\n",
    "\n",
    "Meaning:\n",
    "\n",
    "At x=0, y=0\n",
    "\n",
    "At x=1, y=10\n",
    "\n",
    "At x=2, y=20\n",
    "\n",
    "At x=3, y=30\n",
    "\n",
    "So this is like a straight line function: y = 10 * x.\n",
    "\n",
    "np.interp(value, x_points, y_points) finds the y-value for a given x-value that lies between known points.\n",
    "\n",
    "Here:\n",
    "\n",
    "We want x = 1.5\n",
    "\n",
    "It lies between x=1 (y=10) and x=2 (y=20)\n",
    "\n",
    "\n",
    "\"\"\"\n",
    "## to know the respective value of unknow input we use interpolation\n",
    "## using numpy\n",
    "import numpy as np\n",
    "# Known data points\n",
    "x = np.array([0, 1, 2, 3]) ### input independent variable\n",
    "y = np.array([0, 10, 20, 30])### output dependent variable\n",
    "\n",
    "# Interpolate value at 1.5\n",
    "y_interp = np.interp(1.5, x, y)\n",
    "print(y_interp)  # 15.0\n",
    "\n",
    "### Using SCIPY\n",
    "from scipy import interpolate\n",
    "import numpy as np\n",
    "\n",
    "x = np.array([0, 1, 2, 3, 4])\n",
    "y = np.array([0, 2, 4, 6, 8])\n",
    "\n",
    "# Linear interpolation function\n",
    "f = interpolate.interp1d(x, y)\n",
    "\n",
    "# Get interpolated value\n",
    "print(f(2.5))  # 5.0\n"
   ]
  },
  {
   "cell_type": "code",
   "execution_count": 18,
   "id": "8912d6fd-53f4-4596-8b71-50a86f769aa3",
   "metadata": {},
   "outputs": [
    {
     "name": "stdout",
     "output_type": "stream",
     "text": [
      "Requirement already satisfied: opencv-python in c:\\users\\venkatesh\\appdata\\local\\programs\\python\\python313\\lib\\site-packages (4.12.0.88)\n",
      "Requirement already satisfied: numpy<2.3.0,>=2 in c:\\users\\venkatesh\\appdata\\local\\programs\\python\\python313\\lib\\site-packages (from opencv-python) (2.2.1)\n",
      "4.12.0\n"
     ]
    },
    {
     "name": "stderr",
     "output_type": "stream",
     "text": [
      "\n",
      "[notice] A new release of pip is available: 24.3.1 -> 25.2\n",
      "[notice] To update, run: python.exe -m pip install --upgrade pip\n"
     ]
    },
    {
     "ename": "error",
     "evalue": "OpenCV(4.12.0) D:\\a\\opencv-python\\opencv-python\\opencv\\modules\\imgproc\\src\\resize.cpp:4208: error: (-215:Assertion failed) !ssize.empty() in function 'cv::resize'\n",
     "output_type": "error",
     "traceback": [
      "\u001b[1;31m---------------------------------------------------------------------------\u001b[0m",
      "\u001b[1;31merror\u001b[0m                                     Traceback (most recent call last)",
      "Cell \u001b[1;32mIn[18], line 11\u001b[0m\n\u001b[0;32m      8\u001b[0m img \u001b[38;5;241m=\u001b[39m cv2\u001b[38;5;241m.\u001b[39mimread(\u001b[38;5;124m\"\u001b[39m\u001b[38;5;124mexample.jpg\u001b[39m\u001b[38;5;124m\"\u001b[39m)\n\u001b[0;32m     10\u001b[0m \u001b[38;5;66;03m# Resize with interpolation\u001b[39;00m\n\u001b[1;32m---> 11\u001b[0m resized \u001b[38;5;241m=\u001b[39m \u001b[43mcv2\u001b[49m\u001b[38;5;241;43m.\u001b[39;49m\u001b[43mresize\u001b[49m\u001b[43m(\u001b[49m\u001b[43mimg\u001b[49m\u001b[43m,\u001b[49m\u001b[43m \u001b[49m\u001b[43m(\u001b[49m\u001b[38;5;241;43m200\u001b[39;49m\u001b[43m,\u001b[49m\u001b[43m \u001b[49m\u001b[38;5;241;43m200\u001b[39;49m\u001b[43m)\u001b[49m\u001b[43m,\u001b[49m\u001b[43m \u001b[49m\u001b[43minterpolation\u001b[49m\u001b[38;5;241;43m=\u001b[39;49m\u001b[43mcv2\u001b[49m\u001b[38;5;241;43m.\u001b[39;49m\u001b[43mINTER_CUBIC\u001b[49m\u001b[43m)\u001b[49m\n\u001b[0;32m     13\u001b[0m \u001b[38;5;28mprint\u001b[39m(\u001b[38;5;124m\"\u001b[39m\u001b[38;5;124mOriginal shape:\u001b[39m\u001b[38;5;124m\"\u001b[39m, img\u001b[38;5;241m.\u001b[39mshape)\n\u001b[0;32m     14\u001b[0m \u001b[38;5;28mprint\u001b[39m(\u001b[38;5;124m\"\u001b[39m\u001b[38;5;124mResized shape:\u001b[39m\u001b[38;5;124m\"\u001b[39m, resized\u001b[38;5;241m.\u001b[39mshape)\n",
      "\u001b[1;31merror\u001b[0m: OpenCV(4.12.0) D:\\a\\opencv-python\\opencv-python\\opencv\\modules\\imgproc\\src\\resize.cpp:4208: error: (-215:Assertion failed) !ssize.empty() in function 'cv::resize'\n"
     ]
    }
   ],
   "source": [
    "## Image interpolation\n",
    "!pip install opencv-python\n",
    "import cv2\n",
    "print(cv2.__version__)\n",
    "import cv2\n",
    "\n",
    "# Read an image\n",
    "img = cv2.imread(\"example.jpg\")\n",
    "\n",
    "# Resize with interpolation\n",
    "resized = cv2.resize(img, (200, 200), interpolation=cv2.INTER_CUBIC)\n",
    "\n",
    "print(\"Original shape:\", img.shape)\n",
    "print(\"Resized shape:\", resized.shape)\n",
    "\n"
   ]
  },
  {
   "cell_type": "code",
   "execution_count": null,
   "id": "0a154f6f-6a76-425d-801f-7ab5bc482848",
   "metadata": {},
   "outputs": [],
   "source": []
  }
 ],
 "metadata": {
  "kernelspec": {
   "display_name": "Python 3 (ipykernel)",
   "language": "python",
   "name": "python3"
  },
  "language_info": {
   "codemirror_mode": {
    "name": "ipython",
    "version": 3
   },
   "file_extension": ".py",
   "mimetype": "text/x-python",
   "name": "python",
   "nbconvert_exporter": "python",
   "pygments_lexer": "ipython3",
   "version": "3.13.1"
  }
 },
 "nbformat": 4,
 "nbformat_minor": 5
}
