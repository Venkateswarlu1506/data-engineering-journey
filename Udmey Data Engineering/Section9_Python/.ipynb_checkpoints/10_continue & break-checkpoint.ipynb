{
 "cells": [
  {
   "cell_type": "markdown",
   "id": "69594d3a-a256-4f7e-a8bd-7da98e61c231",
   "metadata": {},
   "source": [
    "break: it will break the loop\n",
    "continue: skip the preset condition or occurence\n"
   ]
  },
  {
   "cell_type": "code",
   "execution_count": 1,
   "id": "6c0c1eb1-ae4f-44e7-9d33-888aee8212fe",
   "metadata": {},
   "outputs": [
    {
     "name": "stdout",
     "output_type": "stream",
     "text": [
      "1\n"
     ]
    }
   ],
   "source": [
    "i=0\n",
    "for i in range(1,10):\n",
    "    print(i)\n",
    "    break"
   ]
  },
  {
   "cell_type": "code",
   "execution_count": 5,
   "id": "a343e413-3907-4a6e-aec1-bedf3c9bcb84",
   "metadata": {},
   "outputs": [
    {
     "name": "stdout",
     "output_type": "stream",
     "text": [
      "1\n"
     ]
    }
   ],
   "source": [
    "i=0\n",
    "for i in range(1,10):\n",
    "    if i<=5:\n",
    "     print(i)\n",
    "    break"
   ]
  },
  {
   "cell_type": "code",
   "execution_count": 6,
   "id": "75eec6f7-0a84-4833-aa48-920166e87e3e",
   "metadata": {},
   "outputs": [
    {
     "name": "stdout",
     "output_type": "stream",
     "text": [
      "1\n"
     ]
    }
   ],
   "source": [
    "i=0\n",
    "for i in range(1,10):\n",
    "    if i<=5:\n",
    "     print(i)\n",
    "     break"
   ]
  },
  {
   "cell_type": "code",
   "execution_count": 11,
   "id": "33c0ea86-c800-4ac5-ba74-1fcf117c7225",
   "metadata": {},
   "outputs": [
    {
     "name": "stdout",
     "output_type": "stream",
     "text": [
      "1\n",
      "for loop still running 1\n",
      "2\n",
      "for loop still running 2\n",
      "3\n",
      "for loop still running 3\n",
      "4\n",
      "for loop still running 4\n",
      "5\n",
      "for loop still running 5\n",
      "for loop still running 6\n",
      "for loop still running 7\n",
      "for loop still running 8\n",
      "for loop still running 9\n"
     ]
    }
   ],
   "source": [
    "i=0\n",
    "for i in range(1,10):\n",
    "    if i<=5:\n",
    "     print(i)\n",
    "    print(f\"for loop still running {i}\")"
   ]
  },
  {
   "cell_type": "code",
   "execution_count": 18,
   "id": "4b601d90-e847-4993-8889-2c83d2e67ec6",
   "metadata": {},
   "outputs": [
    {
     "name": "stdout",
     "output_type": "stream",
     "text": [
      "1\n",
      "for loop still running 1\n"
     ]
    }
   ],
   "source": [
    "i=0\n",
    "for i in range(1,10):\n",
    "    if i<=5:\n",
    "     print(i)\n",
    "    print(f\"for loop still running {i}\")\n",
    "    break"
   ]
  },
  {
   "cell_type": "code",
   "execution_count": 19,
   "id": "2bac48c1-4ac7-47f3-9403-3ccac59ddc69",
   "metadata": {},
   "outputs": [
    {
     "name": "stdout",
     "output_type": "stream",
     "text": [
      "1\n",
      "for loop still running 1\n",
      "2\n",
      "for loop still running 2\n",
      "3\n",
      "for loop still running 3\n",
      "4\n",
      "for loop still running 4\n",
      "5\n",
      "for loop still running 5\n",
      "for loop still running 6\n",
      "for loop still running 7\n",
      "for loop still running 8\n",
      "for loop still running 9\n"
     ]
    }
   ],
   "source": [
    "i=0\n",
    "for i in range(1,10):\n",
    "    if i<=5:\n",
    "     print(i)\n",
    "    print(f\"for loop still running {i}\")\n",
    "    continue"
   ]
  },
  {
   "cell_type": "code",
   "execution_count": 22,
   "id": "c9afa0a7-b4dd-485e-8c02-38f4f1d74beb",
   "metadata": {},
   "outputs": [
    {
     "name": "stdout",
     "output_type": "stream",
     "text": [
      "for loop still running 1\n",
      "for loop still running 2\n",
      "for loop still running 3\n",
      "for loop still running 4\n",
      "for loop still running 6\n",
      "for loop still running 7\n",
      "for loop still running 8\n",
      "for loop still running 9\n"
     ]
    }
   ],
   "source": [
    "i=0\n",
    "for i in range(1,10):\n",
    "    if i==5:\n",
    "     continue\n",
    "     print(i)\n",
    "    print(f\"for loop still running {i}\")\n",
    "    "
   ]
  },
  {
   "cell_type": "code",
   "execution_count": null,
   "id": "aaf87677-1746-47e3-8ea6-347d2a6f78f9",
   "metadata": {},
   "outputs": [],
   "source": []
  }
 ],
 "metadata": {
  "kernelspec": {
   "display_name": "Python 3 (ipykernel)",
   "language": "python",
   "name": "python3"
  },
  "language_info": {
   "codemirror_mode": {
    "name": "ipython",
    "version": 3
   },
   "file_extension": ".py",
   "mimetype": "text/x-python",
   "name": "python",
   "nbconvert_exporter": "python",
   "pygments_lexer": "ipython3",
   "version": "3.13.1"
  }
 },
 "nbformat": 4,
 "nbformat_minor": 5
}
