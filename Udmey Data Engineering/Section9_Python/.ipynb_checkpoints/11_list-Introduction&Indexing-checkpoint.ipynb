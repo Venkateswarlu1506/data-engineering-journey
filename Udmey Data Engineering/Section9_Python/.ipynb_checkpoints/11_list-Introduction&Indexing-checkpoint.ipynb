{
 "cells": [
  {
   "cell_type": "markdown",
   "id": "562dca34-7dd8-4189-ba9d-8efa45849443",
   "metadata": {},
   "source": [
    "collection: Group of elements kept together \n",
    "Example: List[],set{},tuple(),dict{key:value}\n",
    "\n",
    "List: collection of elements(can have numbers and text)\n",
    "[\"a\",1,2,5,\"b\",\"ram\"]\n",
    "\n",
    "Indexing:Positive indexing and negative indexing\n",
    "Indexing(Postion of an element):[0],[1]......\n",
    "variable_name[staring_position:end_position:step]\n",
    "Variable_name[particular_postion]"
   ]
  },
  {
   "cell_type": "code",
   "execution_count": 1,
   "id": "fd7cb4fe-abfe-4fdc-a89a-c812d22e0011",
   "metadata": {},
   "outputs": [
    {
     "data": {
      "text/plain": [
       "[10, 20, 30, 40, 90, 80]"
      ]
     },
     "execution_count": 1,
     "metadata": {},
     "output_type": "execute_result"
    }
   ],
   "source": [
    "[10,20,30,40,90,80]"
   ]
  },
  {
   "cell_type": "code",
   "execution_count": 3,
   "id": "5367a825-e04d-4e32-b82f-da2e580c737e",
   "metadata": {},
   "outputs": [
    {
     "name": "stdout",
     "output_type": "stream",
     "text": [
      "[10, 20, 30, 40, 90, 80]\n"
     ]
    },
    {
     "data": {
      "text/plain": [
       "list"
      ]
     },
     "execution_count": 3,
     "metadata": {},
     "output_type": "execute_result"
    }
   ],
   "source": [
    "my_num=[10,20,30,40,90,80] ## variable storing list collection\n",
    "print(my_num)\n",
    "type(my_num)"
   ]
  },
  {
   "cell_type": "code",
   "execution_count": 4,
   "id": "852af2ca-5c31-4ed2-ae70-b451db15c3c0",
   "metadata": {},
   "outputs": [
    {
     "name": "stdout",
     "output_type": "stream",
     "text": [
      "['India', 'America', 'Russia', 1, 2]\n"
     ]
    }
   ],
   "source": [
    "countries=[\"India\",\"America\",\"Russia\",1,2]\n",
    "print(countries)"
   ]
  },
  {
   "cell_type": "code",
   "execution_count": 7,
   "id": "b91523e7-1030-42c5-89d4-e4a045453ac3",
   "metadata": {},
   "outputs": [
    {
     "name": "stdout",
     "output_type": "stream",
     "text": [
      "first element is India\n",
      "Last element is 2\n"
     ]
    }
   ],
   "source": [
    "countries=[\"India\",\"America\",\"Russia\",1,2]\n",
    "#first element\n",
    "countries[0]\n",
    "print(f\"first element is {countries[0]}\")\n",
    "#Last element\n",
    "countries[-1]\n",
    "print(f\"Last element is {countries[-1]}\")"
   ]
  },
  {
   "cell_type": "code",
   "execution_count": 14,
   "id": "14a9e972-e80d-4e07-99c0-f887d70c7a99",
   "metadata": {},
   "outputs": [
    {
     "name": "stdout",
     "output_type": "stream",
     "text": [
      "fetch first three elements from the list['India', 'America', 'Russia']\n",
      "fetch first three elements from the list['India', 'America', 'Russia']\n"
     ]
    }
   ],
   "source": [
    "countries=[\"India\",\"America\",\"Russia\",1,2]\n",
    "#Need to fetch first three elements from the list\n",
    "\"\"\"Index 0-1st element\n",
    "Index 1-2nd element\n",
    "Index 2-3rd element\n",
    "index 3-4th element in [0:3] till 0,1,2 index only it will take and ignore 3rd index\"\"\"\n",
    "countries[0:3]\n",
    "countries[:3]\n",
    "print(f\"fetch first three elements from the list{countries[0:3]}\")\n",
    "print(f\"fetch first three elements from the list{countries[:3]}\")"
   ]
  },
  {
   "cell_type": "code",
   "execution_count": 13,
   "id": "badeb23c-1047-47b8-a41b-a6e11f6a7a40",
   "metadata": {},
   "outputs": [
    {
     "data": {
      "text/plain": [
       "['India', 'Russia', 2]"
      ]
     },
     "execution_count": 13,
     "metadata": {},
     "output_type": "execute_result"
    }
   ],
   "source": [
    "countries=[\"India\",\"America\",\"Russia\",1,2]\n",
    "#I want to fetch alternative even indexing and odd indexing\n",
    "countries[0::2]"
   ]
  },
  {
   "cell_type": "code",
   "execution_count": null,
   "id": "00b10e13-f366-4aaa-8325-9b54ebc34ec3",
   "metadata": {},
   "outputs": [],
   "source": []
  }
 ],
 "metadata": {
  "kernelspec": {
   "display_name": "Python 3 (ipykernel)",
   "language": "python",
   "name": "python3"
  },
  "language_info": {
   "codemirror_mode": {
    "name": "ipython",
    "version": 3
   },
   "file_extension": ".py",
   "mimetype": "text/x-python",
   "name": "python",
   "nbconvert_exporter": "python",
   "pygments_lexer": "ipython3",
   "version": "3.13.1"
  }
 },
 "nbformat": 4,
 "nbformat_minor": 5
}
