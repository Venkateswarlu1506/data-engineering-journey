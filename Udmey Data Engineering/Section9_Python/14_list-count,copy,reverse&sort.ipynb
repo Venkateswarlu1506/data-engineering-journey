{
 "cells": [
  {
   "cell_type": "markdown",
   "id": "0553776b-d281-4f25-9688-e40e0e427177",
   "metadata": {},
   "source": [
    "## count()\n",
    "     To count the number of times the element/object occured in the list\n",
    "## reverse()\n",
    "     To reverse the list of elements\n",
    "     Note: We cannot assign the revese list to another variable\n",
    "## sort(reverse=True/False)\n",
    "    True sort the list in desc\n",
    "    False sort the list in asc\n",
    "    Note: We cannot assign the sort list to another variable\n",
    "## copy()\n",
    "     copy the exisitng list to another variable"
   ]
  },
  {
   "cell_type": "code",
   "execution_count": 3,
   "id": "9d50c4c2-d30a-49ce-af3c-d0037c101f52",
   "metadata": {},
   "outputs": [
    {
     "name": "stdout",
     "output_type": "stream",
     "text": [
      "[10, 20, 30, 50, 60, 10, 70, 10, 20]\n"
     ]
    },
    {
     "data": {
      "text/plain": [
       "3"
      ]
     },
     "execution_count": 3,
     "metadata": {},
     "output_type": "execute_result"
    }
   ],
   "source": [
    "## count()\n",
    "lst=[10,20,30,50,60,10,70,10,20]\n",
    "print(lst)\n",
    "lst.count(10)"
   ]
  },
  {
   "cell_type": "code",
   "execution_count": 8,
   "id": "eeb8e33a-f78d-4c7a-a8c1-3eef281e3523",
   "metadata": {},
   "outputs": [
    {
     "name": "stdout",
     "output_type": "stream",
     "text": [
      "[10, 20, 30, 50, 60, 10, 70, 10, 20]\n",
      "[20, 10, 70, 10, 60, 50, 30, 20, 10]\n",
      "None\n"
     ]
    }
   ],
   "source": [
    "## reverse()\n",
    "lst1=[10,20,30,50,60,10,70,10,20]\n",
    "print(lst1)\n",
    "lst1.reverse()\n",
    "print(lst1)\n",
    "lst2=lst1.reverse() ## we can not assign the values to another variable means its a literal(only used for that list)\n",
    "print(lst2)"
   ]
  },
  {
   "cell_type": "code",
   "execution_count": 13,
   "id": "5dd0e2e4-a613-4db0-8729-4bf28024232b",
   "metadata": {},
   "outputs": [
    {
     "name": "stdout",
     "output_type": "stream",
     "text": [
      "[10, 20, 30, 50, 60, 10, 70, 10, 20]\n",
      "[70, 60, 50, 30, 20, 20, 10, 10, 10]\n",
      "[10, 10, 10, 20, 20, 30, 50, 60, 70]\n",
      "None\n"
     ]
    }
   ],
   "source": [
    "## sort(reverse=True/False)\n",
    "lst2=[10,20,30,50,60,10,70,10,20]\n",
    "print(lst2)\n",
    "lst2.sort(reverse=True) ## DESC\n",
    "print(lst2)\n",
    "lst2.sort(reverse=False) ## ASC\n",
    "print(lst2)\n",
    "lst3=lst2.sort(reverse=False) ## we can not assign the values to another variable means its a literal(only used for that list)\n",
    "print(lst3)"
   ]
  },
  {
   "cell_type": "code",
   "execution_count": 15,
   "id": "f1c2a61c-6e28-4643-a117-1ab1a775def4",
   "metadata": {},
   "outputs": [
    {
     "name": "stdout",
     "output_type": "stream",
     "text": [
      "[10, 20, 30, 50, 60, 10, 70, 10, 20]\n",
      "[10, 20, 30, 50, 60, 10, 70, 10, 20, 100]\n"
     ]
    }
   ],
   "source": [
    "## copy()\n",
    "lst4=[10,20,30,50,60,10,70,10,20]\n",
    "lst5=lst4.copy()\n",
    "print(lst5)\n",
    "lst4.append(100) ## here i have appended the 100 but it will not impact the copied list copy() is independent\n",
    "print(lst4)"
   ]
  },
  {
   "cell_type": "code",
   "execution_count": null,
   "id": "cfc5b893-0f83-4399-a3c3-ecdcb91eb12e",
   "metadata": {},
   "outputs": [],
   "source": []
  }
 ],
 "metadata": {
  "kernelspec": {
   "display_name": "Python 3 (ipykernel)",
   "language": "python",
   "name": "python3"
  },
  "language_info": {
   "codemirror_mode": {
    "name": "ipython",
    "version": 3
   },
   "file_extension": ".py",
   "mimetype": "text/x-python",
   "name": "python",
   "nbconvert_exporter": "python",
   "pygments_lexer": "ipython3",
   "version": "3.13.1"
  }
 },
 "nbformat": 4,
 "nbformat_minor": 5
}
