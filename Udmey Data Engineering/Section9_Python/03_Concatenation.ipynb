{
 "cells": [
  {
   "cell_type": "markdown",
   "id": "ecc2843b-81d6-43df-b6b2-5c9d00be7318",
   "metadata": {},
   "source": [
    "Concatenation:\n",
    "We use \"+\" operator for concatenation\n",
    "same data types: We can concatenate\n",
    "Different Data types: We cannot concatenate it throws error. That time if you really want to concatenate we can use \n",
    "type cast functions like str(),int()"
   ]
  },
  {
   "cell_type": "code",
   "execution_count": 6,
   "id": "a780c298-f3a8-4a86-8216-b2bf6245b020",
   "metadata": {},
   "outputs": [
    {
     "name": "stdout",
     "output_type": "stream",
     "text": [
      "Same data type:50\n",
      "Same data type:VenkySwathi\n",
      "Different Data Type:Venky30\n"
     ]
    }
   ],
   "source": [
    "a=20\n",
    "b=30\n",
    "c=\"Venky\"\n",
    "d=\"Swathi\"\n",
    "print(f\"Same data type:{a+b}\")## addintion because it is numeric value\n",
    "print(f\"Same data type:{c+d}\")## Concatenate because it is string\n",
    "\"\"\"print(f\"Different Data Type:{c+b}\")## Trying to do concate without type cast## TypeError: can only concatenate str (not \"int\") to str\"\"\"\n",
    "\"\"\"print(f\"Different Data Type:{int(c)+b}\")##converting to str to int ## ValueError: invalid literal for int() with base 10: 'Venky'\"\"\"\n",
    "print(f\"Different Data Type:{c+str(b)}\")## converting int to str"
   ]
  },
  {
   "cell_type": "code",
   "execution_count": null,
   "id": "3020e839-b63b-44fd-b064-7d8e26bfd65e",
   "metadata": {},
   "outputs": [],
   "source": []
  }
 ],
 "metadata": {
  "kernelspec": {
   "display_name": "Python 3 (ipykernel)",
   "language": "python",
   "name": "python3"
  },
  "language_info": {
   "codemirror_mode": {
    "name": "ipython",
    "version": 3
   },
   "file_extension": ".py",
   "mimetype": "text/x-python",
   "name": "python",
   "nbconvert_exporter": "python",
   "pygments_lexer": "ipython3",
   "version": "3.13.1"
  }
 },
 "nbformat": 4,
 "nbformat_minor": 5
}
