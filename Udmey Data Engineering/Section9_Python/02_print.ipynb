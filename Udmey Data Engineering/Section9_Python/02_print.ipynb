{
 "cells": [
  {
   "cell_type": "code",
   "execution_count": 1,
   "id": "f7badea6-8eb8-4fe9-9c4d-903692500120",
   "metadata": {},
   "outputs": [
    {
     "name": "stdout",
     "output_type": "stream",
     "text": [
      "Help on built-in function print in module builtins:\n",
      "\n",
      "print(*args, sep=' ', end='\\n', file=None, flush=False)\n",
      "    Prints the values to a stream, or to sys.stdout by default.\n",
      "\n",
      "    sep\n",
      "      string inserted between values, default a space.\n",
      "    end\n",
      "      string appended after the last value, default a newline.\n",
      "    file\n",
      "      a file-like object (stream); defaults to the current sys.stdout.\n",
      "    flush\n",
      "      whether to forcibly flush the stream.\n",
      "\n"
     ]
    }
   ],
   "source": [
    "help(print)"
   ]
  },
  {
   "cell_type": "markdown",
   "id": "bbecba73-8ada-4452-b371-21a77fcc0772",
   "metadata": {},
   "source": [
    "| Parameter | Default      | What it does                  |\n",
    "| --------- | ------------ | ----------------------------- |\n",
    "| `*args`   | N/A          | Values to print               |\n",
    "| `sep`     | `' '`        | Separator between values      |\n",
    "| `end`     | `'\\n'`       | String after output           |\n",
    "| `file`    | `sys.stdout` | Where to print (console/file) |\n",
    "| `flush`   | `False`      | Flush buffer immediately      |\n"
   ]
  },
  {
   "cell_type": "code",
   "execution_count": 2,
   "id": "9d6d6996-dbf1-4fc8-8e12-bf8f90666294",
   "metadata": {},
   "outputs": [
    {
     "name": "stdout",
     "output_type": "stream",
     "text": [
      "Apple Mango Banana\n"
     ]
    }
   ],
   "source": [
    "### *args → Multiple Values\n",
    "print(\"Apple\",\"Mango\",\"Banana\")"
   ]
  },
  {
   "cell_type": "code",
   "execution_count": 4,
   "id": "b57ed192-aeb0-4ae0-9745-33bf55f525c1",
   "metadata": {},
   "outputs": [
    {
     "name": "stdout",
     "output_type": "stream",
     "text": [
      "Apple--Mango--Banana\n"
     ]
    }
   ],
   "source": [
    "### sep → Separator Between Values\n",
    "print(\"Apple\",\"Mango\",\"Banana\",sep=\"--\")"
   ]
  },
  {
   "cell_type": "code",
   "execution_count": 8,
   "id": "b09e601a-a7c3-4bc4-b6e5-df274e031ebe",
   "metadata": {},
   "outputs": [
    {
     "name": "stdout",
     "output_type": "stream",
     "text": [
      "Apple Mango Banana\n",
      "Apple Mango Puff:)"
     ]
    }
   ],
   "source": [
    "### end → What Comes After\n",
    "print(\"Apple\",\"Mango\",\"Banana\",end=\"\\n\")\n",
    "print(\"Apple\",\"Mango\",\"Puff\",end=\":)\")"
   ]
  },
  {
   "cell_type": "code",
   "execution_count": 11,
   "id": "42b1e890-5bbb-40ec-82ec-078e44afede2",
   "metadata": {},
   "outputs": [],
   "source": [
    "###file → Print to a File\n",
    "with open(\"fruits.txt\", \"w\") as f:\n",
    "    print(\"Apple\",\"Mango\",\"Puff\",file=f)"
   ]
  },
  {
   "cell_type": "code",
   "execution_count": null,
   "id": "30643457-d639-4c99-b5dd-e3274c32f4e3",
   "metadata": {},
   "outputs": [],
   "source": []
  }
 ],
 "metadata": {
  "kernelspec": {
   "display_name": "Python 3 (ipykernel)",
   "language": "python",
   "name": "python3"
  },
  "language_info": {
   "codemirror_mode": {
    "name": "ipython",
    "version": 3
   },
   "file_extension": ".py",
   "mimetype": "text/x-python",
   "name": "python",
   "nbconvert_exporter": "python",
   "pygments_lexer": "ipython3",
   "version": "3.13.1"
  }
 },
 "nbformat": 4,
 "nbformat_minor": 5
}
