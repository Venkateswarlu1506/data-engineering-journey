{
 "cells": [
  {
   "cell_type": "markdown",
   "id": "b24fac12-f598-43fa-bb25-96fabdb79de0",
   "metadata": {},
   "source": [
    "###Variables\n",
    "1. Variable is a container that holds values like number,text,string,time,collection\n",
    "2. Variable holds only one value that means it holds the latest value only(overwrite the old value)\n",
    "3. Variables are created in Memory(means lets say x=5 x is not created but when you run x=5 at that time x variable is created in memory with value 5)\n",
    "4. In python no need to declare the data type it will take automatically based the values\n",
    "5. To check the type of variable use type()\n"
   ]
  },
  {
   "cell_type": "code",
   "execution_count": 16,
   "id": "b48e2777-bb0f-436b-9f97-4fc1b424a919",
   "metadata": {},
   "outputs": [
    {
     "name": "stdout",
     "output_type": "stream",
     "text": [
      "5\n",
      "Python Python\n",
      "True\n"
     ]
    },
    {
     "data": {
      "text/plain": [
       "int"
      ]
     },
     "execution_count": 16,
     "metadata": {},
     "output_type": "execute_result"
    }
   ],
   "source": [
    "x=5 # integer\n",
    "y=\"Python\" #string\n",
    "z='Python' #string\n",
    "a=True\n",
    "print(x,end=\"\\n\")\n",
    "print(y,z,end=\"\\n\")\n",
    "print(a)\n",
    "type(x)\n",
    "\n"
   ]
  },
  {
   "cell_type": "code",
   "execution_count": 15,
   "id": "cc92abba-4632-4173-9800-8496cd33d37f",
   "metadata": {},
   "outputs": [
    {
     "name": "stdout",
     "output_type": "stream",
     "text": [
      "<class 'int'>\n",
      "<class 'str'>\n",
      "<class 'bool'>\n"
     ]
    }
   ],
   "source": [
    "## type() to check the variable data type\n",
    "print(type(x))\n",
    "print(type(z))\n",
    "print(type(a))"
   ]
  },
  {
   "cell_type": "code",
   "execution_count": 20,
   "id": "7e2257e3-0eef-4330-985f-43f23d62741a",
   "metadata": {},
   "outputs": [
    {
     "name": "stdout",
     "output_type": "stream",
     "text": [
      " I am integer:5\n",
      " I am sring:('Python', 'Python')\n"
     ]
    }
   ],
   "source": [
    "### use f\"{var_1},{Var_2}\" to print diffrent variables in singlr print\n",
    "print(f\" I am integer:{x}\\n I am sring:{y,z}\")"
   ]
  },
  {
   "cell_type": "code",
   "execution_count": 24,
   "id": "e7cb95f1-3643-4cb5-ad84-ec3155704389",
   "metadata": {},
   "outputs": [
    {
     "name": "stdin",
     "output_type": "stream",
     "text": [
      "User please enter integer value: 10\n"
     ]
    },
    {
     "name": "stdout",
     "output_type": "stream",
     "text": [
      "Entered integer is:10\n"
     ]
    }
   ],
   "source": [
    "### USer input\n",
    "x=input(\"User please enter integer value:\")\n",
    "print(f\"Entered integer is:{x}\")\n"
   ]
  },
  {
   "cell_type": "code",
   "execution_count": null,
   "id": "077d3119-35e9-481d-8ab1-adb349530a77",
   "metadata": {},
   "outputs": [],
   "source": []
  }
 ],
 "metadata": {
  "kernelspec": {
   "display_name": "Python 3 (ipykernel)",
   "language": "python",
   "name": "python3"
  },
  "language_info": {
   "codemirror_mode": {
    "name": "ipython",
    "version": 3
   },
   "file_extension": ".py",
   "mimetype": "text/x-python",
   "name": "python",
   "nbconvert_exporter": "python",
   "pygments_lexer": "ipython3",
   "version": "3.13.1"
  }
 },
 "nbformat": 4,
 "nbformat_minor": 5
}
