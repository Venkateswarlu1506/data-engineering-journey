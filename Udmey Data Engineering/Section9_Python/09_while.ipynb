{
 "cells": [
  {
   "cell_type": "code",
   "execution_count": null,
   "id": "d154e199-e36b-4a47-b7d5-f2bd94670db4",
   "metadata": {},
   "outputs": [],
   "source": [
    "difference between for loop and while loop\n",
    "\n",
    "for loop: Depends on the number of times \n",
    "while loop: Depends on the condition untill the condition is true the loop will run"
   ]
  },
  {
   "cell_type": "code",
   "execution_count": 3,
   "id": "1ac13464-9a4b-400a-bb8a-ededee41b6fb",
   "metadata": {},
   "outputs": [
    {
     "name": "stdout",
     "output_type": "stream",
     "text": [
      "1\n",
      "2\n",
      "3\n",
      "4\n",
      "5\n",
      "6\n",
      "7\n",
      "8\n",
      "9\n",
      "10\n",
      "11\n"
     ]
    }
   ],
   "source": [
    "i=0\n",
    "while i<=10:\n",
    " i+=1\n",
    " print(i)"
   ]
  },
  {
   "cell_type": "code",
   "execution_count": null,
   "id": "2101f1da-b6dc-4223-a381-b1c4aa080e11",
   "metadata": {},
   "outputs": [],
   "source": []
  }
 ],
 "metadata": {
  "kernelspec": {
   "display_name": "Python 3 (ipykernel)",
   "language": "python",
   "name": "python3"
  },
  "language_info": {
   "codemirror_mode": {
    "name": "ipython",
    "version": 3
   },
   "file_extension": ".py",
   "mimetype": "text/x-python",
   "name": "python",
   "nbconvert_exporter": "python",
   "pygments_lexer": "ipython3",
   "version": "3.13.1"
  }
 },
 "nbformat": 4,
 "nbformat_minor": 5
}
